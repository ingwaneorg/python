{
 "cells": [
  {
   "cell_type": "markdown",
   "metadata": {},
   "source": [
    "Let's consider a scenario where you have a dataset of sales transactions and you want to perform some ETL operations:"
   ]
  },
  {
   "cell_type": "code",
   "execution_count": null,
   "metadata": {},
   "outputs": [],
   "source": [
    "import pandas as pd\n",
    "\n",
    "# Hypothetical Sales Transactions Dataset\n",
    "data = {\n",
    "    'transaction_id': [1, 2, 3, 4, 5],\n",
    "    'product': ['A', 'B', 'A', 'C', 'B'],\n",
    "    'quantity': [10, 5, 8, 3, 6],\n",
    "    'price_per_unit': [20.0, 15.0, 18.0, 25.0, 12.0]\n",
    "}\n",
    "\n"
   ]
  },
  {
   "cell_type": "code",
   "execution_count": null,
   "metadata": {},
   "outputs": [],
   "source": [
    "df = pd.DataFrame(data)\n",
    "\n",
    "# Extract\n",
    "# In a real scenario, you might read the data from a file or database.\n",
    "# For simplicity, we're using a hypothetical dataset directly.\n",
    "\n"
   ]
  },
  {
   "cell_type": "code",
   "execution_count": null,
   "metadata": {},
   "outputs": [],
   "source": [
    "# Transform\n",
    "df['total_price'] = df['quantity'] * df['price_per_unit']\n",
    "\n"
   ]
  },
  {
   "cell_type": "code",
   "execution_count": null,
   "metadata": {},
   "outputs": [],
   "source": [
    "# Load\n",
    "output_path = 'transformed_sales_data.csv'\n",
    "df.to_csv(output_path, index=False)\n",
    "\n",
    "print(f\"ETL process completed. Transformed sales data saved to {output_path}\")"
   ]
  },
  {
   "cell_type": "markdown",
   "metadata": {},
   "source": [
    "The above code creates a dataset of sales transactions, calculates the total price for each transaction, and saves the transformed data to a new CSV file. Adjust the code based on your specific use case and data.\r\n",
    "\r\n",
    "\r\n",
    "\r\n",
    "\r\n"
   ]
  }
 ],
 "metadata": {
  "kernelspec": {
   "display_name": "Python 3 (ipykernel)",
   "language": "python",
   "name": "python3"
  },
  "language_info": {
   "codemirror_mode": {
    "name": "ipython",
    "version": 3
   },
   "file_extension": ".py",
   "mimetype": "text/x-python",
   "name": "python",
   "nbconvert_exporter": "python",
   "pygments_lexer": "ipython3",
   "version": "3.12.3"
  }
 },
 "nbformat": 4,
 "nbformat_minor": 4
}
