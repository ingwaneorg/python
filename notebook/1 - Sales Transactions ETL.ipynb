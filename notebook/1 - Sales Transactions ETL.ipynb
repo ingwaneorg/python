{
  "metadata": {
    "kernelspec": {
      "name": "python",
      "display_name": "Python (Pyodide)",
      "language": "python"
    },
    "language_info": {
      "codemirror_mode": {
        "name": "python",
        "version": 3
      },
      "file_extension": ".py",
      "mimetype": "text/x-python",
      "name": "python",
      "nbconvert_exporter": "python",
      "pygments_lexer": "ipython3",
      "version": "3.8"
    }
  },
  "nbformat_minor": 4,
  "nbformat": 4,
  "cells": [
    {
      "cell_type": "markdown",
      "source": "Let's consider a scenario where you have a dataset of sales transactions and you want to perform some ETL operations:",
      "metadata": {}
    },
    {
      "cell_type": "code",
      "source": "import pandas as pd\n\n# Hypothetical Sales Transactions Dataset\ndata = {\n    'transaction_id': [1, 2, 3, 4, 5],\n    'product': ['A', 'B', 'A', 'C', 'B'],\n    'quantity': [10, 5, 8, 3, 6],\n    'price_per_unit': [20.0, 15.0, 18.0, 25.0, 12.0]\n}\n\n",
      "metadata": {
        "trusted": true
      },
      "outputs": [],
      "execution_count": null
    },
    {
      "cell_type": "code",
      "source": "df = pd.DataFrame(data)\n\n# Extract\n# In a real scenario, you might read the data from a file or database.\n# For simplicity, we're using a hypothetical dataset directly.\n\n",
      "metadata": {
        "trusted": true
      },
      "outputs": [],
      "execution_count": null
    },
    {
      "cell_type": "code",
      "source": "# Transform\ndf['total_price'] = df['quantity'] * df['price_per_unit']\n\n",
      "metadata": {
        "trusted": true
      },
      "outputs": [],
      "execution_count": null
    },
    {
      "cell_type": "code",
      "source": "# Load\noutput_path = 'transformed_sales_data.csv'\ndf.to_csv(output_path, index=False)\n\nprint(f\"ETL process completed. Transformed sales data saved to {output_path}\")",
      "metadata": {
        "trusted": true
      },
      "outputs": [],
      "execution_count": null
    },
    {
      "cell_type": "markdown",
      "source": "The above code creates a dataset of sales transactions, calculates the total price for each transaction, and saves the transformed data to a new CSV file. Adjust the code based on your specific use case and data.\r\n\r\n\r\n\r\n\r\n",
      "metadata": {}
    }
  ]
}