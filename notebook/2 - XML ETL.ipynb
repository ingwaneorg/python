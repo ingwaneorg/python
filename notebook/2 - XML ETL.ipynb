{
  "metadata": {
    "kernelspec": {
      "name": "python",
      "display_name": "Python (Pyodide)",
      "language": "python"
    },
    "language_info": {
      "codemirror_mode": {
        "name": "python",
        "version": 3
      },
      "file_extension": ".py",
      "mimetype": "text/x-python",
      "name": "python",
      "nbconvert_exporter": "python",
      "pygments_lexer": "ipython3",
      "version": "3.8"
    }
  },
  "nbformat_minor": 4,
  "nbformat": 4,
  "cells": [
    {
      "cell_type": "markdown",
      "source": "Here's a simple example of an ETL process using XML data with Python and the xml.etree.ElementTree module",
      "metadata": {}
    },
    {
      "cell_type": "code",
      "source": "import xml.etree.ElementTree as ET\nimport pandas as pd\n\n# Hypothetical XML Dataset\nxml_data = '''\n<transactions>\n    <transaction>\n        <transaction_id>1</transaction_id>\n        <product>A</product>\n        <quantity>10</quantity>\n        <price_per_unit>20.0</price_per_unit>\n    </transaction>\n    <transaction>\n        <transaction_id>2</transaction_id>\n        <product>B</product>\n        <quantity>5</quantity>\n        <price_per_unit>15.0</price_per_unit>\n    </transaction>\n    <!-- Add more transactions as needed -->\n</transactions>\n'''\n\n# Extract\nroot = ET.fromstring(xml_data)\ndata = []\nfor transaction_elem in root.findall('transaction'):\n    transaction_data = {\n        'transaction_id': transaction_elem.find('transaction_id').text,\n        'product': transaction_elem.find('product').text,\n        'quantity': int(transaction_elem.find('quantity').text),\n        'price_per_unit': float(transaction_elem.find('price_per_unit').text)\n    }\n    data.append(transaction_data)\n\n# Transform\ndf = pd.DataFrame(data)\ndf['total_price'] = df['quantity'] * df['price_per_unit']\n\n# Load\noutput_path = 'transformed_xml_data.csv'\ndf.to_csv(output_path, index=False)\n\nprint(f\"ETL process completed. Transformed XML data saved to {output_path}\")\n",
      "metadata": {
        "trusted": true
      },
      "outputs": [],
      "execution_count": null
    },
    {
      "cell_type": "markdown",
      "source": "The above example assumes a simple XML structure for transactions. Adjust the code based on your XML data structure and transformation requirements.",
      "metadata": {}
    }
  ]
}