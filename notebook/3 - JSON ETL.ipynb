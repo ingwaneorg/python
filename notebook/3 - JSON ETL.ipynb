{
  "metadata": {
    "kernelspec": {
      "name": "python",
      "display_name": "Python (Pyodide)",
      "language": "python"
    },
    "language_info": {
      "codemirror_mode": {
        "name": "python",
        "version": 3
      },
      "file_extension": ".py",
      "mimetype": "text/x-python",
      "name": "python",
      "nbconvert_exporter": "python",
      "pygments_lexer": "ipython3",
      "version": "3.8"
    }
  },
  "nbformat_minor": 4,
  "nbformat": 4,
  "cells": [
    {
      "cell_type": "markdown",
      "source": " Example of an ETL process using JSON data with Python and the json ",
      "metadata": {}
    },
    {
      "cell_type": "code",
      "source": "import json\nimport pandas as pd\n\n# Hypothetical JSON Dataset\njson_data = '''\n[\n    {\"transaction_id\": 1, \"product\": \"A\", \"quantity\": 10, \"price_per_unit\": 20.0},\n    {\"transaction_id\": 2, \"product\": \"B\", \"quantity\": 5, \"price_per_unit\": 15.0},\n    {\"transaction_id\": 3, \"product\": \"A\", \"quantity\": 8, \"price_per_unit\": 18.0},\n    {\"transaction_id\": 4, \"product\": \"C\", \"quantity\": 3, \"price_per_unit\": 25.0},\n    {\"transaction_id\": 5, \"product\": \"B\", \"quantity\": 6, \"price_per_unit\": 12.0}\n]\n'''\n\n# Extract\ndata = json.loads(json_data)\n\n# Transform\ndf = pd.DataFrame(data)\ndf['total_price'] = df['quantity'] * df['price_per_unit']\n\n# Load\noutput_path = 'transformed_json_data.csv'\ndf.to_csv(output_path, index=False)\n\nprint(f\"ETL process completed. Transformed JSON data saved to {output_path}\")\n",
      "metadata": {
        "trusted": true
      },
      "outputs": [],
      "execution_count": null
    },
    {
      "cell_type": "markdown",
      "source": "The above example assumes a simple JSON structure for transactions. Adjust the code based on your JSON data structure and transformation requirements.",
      "metadata": {}
    }
  ]
}